{
 "cells": [
  {
   "cell_type": "markdown",
   "id": "8ada0363",
   "metadata": {},
   "source": [
    "# MICrONS NWB co-registration and visualization\n",
    "\n",
    "This notebook uses the `dandi`-hosted [MICrONS functional data](https://dandiarchive.org/dandiset/000402/draft) and `bossdb`-hosted [MICrONS structural data](https://bossdb.org/microns/minnie) to examine and visualize the co-registered cells.\n"
   ]
  },
  {
   "cell_type": "markdown",
   "id": "93ab53e7",
   "metadata": {},
   "source": [
    "## Data Access\n",
    "\n",
    "Here we use the DANDI client, CAVE client, and CloudVolume client to establish access to the functional data, annotation data, and structural data respectively. "
   ]
  },
  {
   "cell_type": "code",
   "execution_count": 1,
   "id": "662cd1f4",
   "metadata": {},
   "outputs": [],
   "source": [
    "from dandi.dandiapi import DandiAPIClient\n",
    "from caveclient import CAVEclient\n",
    "from cloudvolume import CloudVolume\n",
    "\n",
    "from fsspec.implementations.cached import CachingFileSystem\n",
    "from fsspec import filesystem\n",
    "from h5py import File\n",
    "from pynwb import NWBHDF5IO\n",
    "from pynwb.file import NWBFile\n",
    "\n",
    "\n",
    "from tqdm import tqdm\n",
    "import pandas as pd\n",
    "\n",
    "import pynapple as nap\n"
   ]
  },
  {
   "cell_type": "code",
   "execution_count": null,
   "id": "82675021",
   "metadata": {},
   "outputs": [],
   "source": [
    "cave = CAVEclient(\"minnie65_phase3_v1\")"
   ]
  },
  {
   "cell_type": "markdown",
   "id": "842e478f",
   "metadata": {},
   "source": [
    "### Sub-task\n",
    "\n",
    "Find the best NWB file to use"
   ]
  },
  {
   "cell_type": "code",
   "execution_count": 3,
   "id": "8091da3d",
   "metadata": {},
   "outputs": [
    {
     "data": {
      "text/plain": [
       "['allen_column_bodor_surround_inhib',\n",
       " 'cg_cell_type_calls',\n",
       " 'allen_v1_column_pyc_proof',\n",
       " 'func_unit_em_match_release',\n",
       " 'allen_class_type_svm_v0',\n",
       " 'allen_subclass_type_svm_v0',\n",
       " 'allen_v1_column_proofreading',\n",
       " 'l5_mc_cg',\n",
       " 'allen_soma_coarse_cell_class_model_v1',\n",
       " 'synapses_pni_2',\n",
       " 'nucleus_detection_v0',\n",
       " 'allen_minnie_extra_types',\n",
       " 'aibs_soma_nuc_metamodel_preds_v117',\n",
       " 'bodor_pt_target_proofread',\n",
       " 'layer5_it_proofreading',\n",
       " 'aibs_metamodel_mtypes_v661',\n",
       " 'allen_v1_column_thalamic',\n",
       " 'baylor_gnn_cell_type_fine_model_v2',\n",
       " 'apl_functional_coreg',\n",
       " 'nucleus_alternative_points',\n",
       " 'allen_column_mtypes_v2',\n",
       " 'column_atype',\n",
       " 'connectivity_groups_v507',\n",
       " 'new_table_test',\n",
       " 'proofreading_functional_coreg_v2',\n",
       " 'proofreading_functional_coreg',\n",
       " 'bodor_pt_cells',\n",
       " 'functional_coreg',\n",
       " 'proofreading_apl_multisoma',\n",
       " 'aibs_metamodel_mtypes_v661_v2',\n",
       " 'proofreading_status_public_release',\n",
       " 'allen_column_l5it_types',\n",
       " 'allen_v1_column_types_slanted',\n",
       " 'baylor_e_i_model_v1',\n",
       " 'allen_column_mtypes_v1',\n",
       " 'allen_v1_column_types_slanted_ref',\n",
       " 'aibs_column_nonneuronal_ref',\n",
       " 'nucleus_ref_neuron_svm',\n",
       " 'apl_functional_coreg_v2',\n",
       " 'coregistration_manual',\n",
       " 'aibs_soma_nuc_exc_mtype_preds_v117',\n",
       " 'baylor_log_reg_cell_type_coarse_v1',\n",
       " 'apl_functional_coreg_forward_v3',\n",
       " 'coregistration_manual_v3',\n",
       " 'proofreading_apl',\n",
       " 'apl_functional_coreg_forward_v5',\n",
       " 'coregistration_manual_v2',\n",
       " 'apl_functional_coreg_forward_v4',\n",
       " 'l5et_column',\n",
       " 'gamlin_2023_mcs',\n",
       " 'test_table_local_csm',\n",
       " 'cell_edits_v661',\n",
       " 'apl_functional_coreg_backward_v3',\n",
       " 'pt_synapse_targets',\n",
       " 'aibs_metamodel_celltypes_v661',\n",
       " 'orphan_neurites',\n",
       " 'nucleus_neuron_svm',\n",
       " 'aibs_column_nonneuronal',\n",
       " 'allen_column_basket_molecular']"
      ]
     },
     "execution_count": 3,
     "metadata": {},
     "output_type": "execute_result"
    }
   ],
   "source": [
    "cave.materialize.get_tables()"
   ]
  },
  {
   "cell_type": "code",
   "execution_count": 4,
   "id": "84320b8a",
   "metadata": {},
   "outputs": [],
   "source": [
    "coreg = cave.materialize.query_table(\"apl_functional_coreg_forward_v5\")"
   ]
  },
  {
   "cell_type": "code",
   "execution_count": 5,
   "id": "e186333f",
   "metadata": {},
   "outputs": [
    {
     "name": "stdout",
     "output_type": "stream",
     "text": [
      "(session, scan) n_matches  n_seg_ids\n",
      "(4, 7) 3499 3441\n",
      "(4, 9) 3537 3466\n",
      "(4, 10) 4291 4206\n",
      "(5, 3) 3564 3507\n",
      "(5, 6) 3886 3831\n",
      "(5, 7) 3707 3654\n",
      "(6, 2) 3634 3605\n",
      "(6, 4) 3692 3661\n",
      "(6, 6) 3515 3472\n",
      "(6, 7) 3614 3579\n",
      "(7, 3) 3585 3547\n",
      "(7, 4) 5441 5385\n",
      "(7, 5) 3068 3038\n",
      "(8, 5) 4301 3872\n",
      "(8, 7) 3020 2673\n",
      "(8, 9) 3204 2809\n",
      "(9, 3) 3514 2848\n",
      "(9, 4) 3494 2804\n",
      "(9, 6) 2307 2305\n"
     ]
    }
   ],
   "source": [
    "groups = coreg.groupby(['session', 'scan_idx'])\n",
    "print(\"(session, scan) n_matches  n_seg_ids\")\n",
    "for key, item in groups:\n",
    "    print(key, item.shape[0], item['pt_root_id'].unique().shape[0])"
   ]
  },
  {
   "cell_type": "markdown",
   "id": "941a7a88",
   "metadata": {},
   "source": [
    "Session 7 scan 4 has the highest amount of matches"
   ]
  },
  {
   "cell_type": "code",
   "execution_count": 6,
   "id": "db7a8477",
   "metadata": {},
   "outputs": [
    {
     "data": {
      "text/html": [
       "<div>\n",
       "<style scoped>\n",
       "    .dataframe tbody tr th:only-of-type {\n",
       "        vertical-align: middle;\n",
       "    }\n",
       "\n",
       "    .dataframe tbody tr th {\n",
       "        vertical-align: top;\n",
       "    }\n",
       "\n",
       "    .dataframe thead th {\n",
       "        text-align: right;\n",
       "    }\n",
       "</style>\n",
       "<table border=\"1\" class=\"dataframe\">\n",
       "  <thead>\n",
       "    <tr style=\"text-align: right;\">\n",
       "      <th></th>\n",
       "      <th>id_ref</th>\n",
       "      <th>created_ref</th>\n",
       "      <th>valid_ref</th>\n",
       "      <th>volume</th>\n",
       "      <th>pt_supervoxel_id</th>\n",
       "      <th>pt_root_id</th>\n",
       "      <th>id</th>\n",
       "      <th>created</th>\n",
       "      <th>valid</th>\n",
       "      <th>target_id</th>\n",
       "      <th>session</th>\n",
       "      <th>scan_idx</th>\n",
       "      <th>unit_id</th>\n",
       "      <th>field</th>\n",
       "      <th>residual</th>\n",
       "      <th>score</th>\n",
       "      <th>pt_position</th>\n",
       "      <th>bb_start_position</th>\n",
       "      <th>bb_end_position</th>\n",
       "    </tr>\n",
       "  </thead>\n",
       "  <tbody>\n",
       "    <tr>\n",
       "      <th>0</th>\n",
       "      <td>255686</td>\n",
       "      <td>2020-09-28 22:40:42.632533+00:00</td>\n",
       "      <td>t</td>\n",
       "      <td>297.846047</td>\n",
       "      <td>88954888800920543</td>\n",
       "      <td>864691135568539372</td>\n",
       "      <td>67007</td>\n",
       "      <td>2023-04-06 15:05:50.491194+00:00</td>\n",
       "      <td>t</td>\n",
       "      <td>255686</td>\n",
       "      <td>9</td>\n",
       "      <td>6</td>\n",
       "      <td>1913</td>\n",
       "      <td>2</td>\n",
       "      <td>8.941486</td>\n",
       "      <td>4.206369</td>\n",
       "      <td>[175760, 126480, 15504]</td>\n",
       "      <td>[nan, nan, nan]</td>\n",
       "      <td>[nan, nan, nan]</td>\n",
       "    </tr>\n",
       "    <tr>\n",
       "      <th>1</th>\n",
       "      <td>255686</td>\n",
       "      <td>2020-09-28 22:40:42.632533+00:00</td>\n",
       "      <td>t</td>\n",
       "      <td>297.846047</td>\n",
       "      <td>88954888800920543</td>\n",
       "      <td>864691135568539372</td>\n",
       "      <td>65810</td>\n",
       "      <td>2023-04-06 15:05:49.502144+00:00</td>\n",
       "      <td>t</td>\n",
       "      <td>255686</td>\n",
       "      <td>9</td>\n",
       "      <td>4</td>\n",
       "      <td>7548</td>\n",
       "      <td>6</td>\n",
       "      <td>9.380808</td>\n",
       "      <td>-5.165012</td>\n",
       "      <td>[175760, 126480, 15504]</td>\n",
       "      <td>[nan, nan, nan]</td>\n",
       "      <td>[nan, nan, nan]</td>\n",
       "    </tr>\n",
       "    <tr>\n",
       "      <th>2</th>\n",
       "      <td>255686</td>\n",
       "      <td>2020-09-28 22:40:42.632533+00:00</td>\n",
       "      <td>t</td>\n",
       "      <td>297.846047</td>\n",
       "      <td>88954888800920543</td>\n",
       "      <td>864691135568539372</td>\n",
       "      <td>54982</td>\n",
       "      <td>2023-04-06 15:05:15.938520+00:00</td>\n",
       "      <td>t</td>\n",
       "      <td>255686</td>\n",
       "      <td>8</td>\n",
       "      <td>7</td>\n",
       "      <td>4778</td>\n",
       "      <td>4</td>\n",
       "      <td>3.763804</td>\n",
       "      <td>5.341737</td>\n",
       "      <td>[175760, 126480, 15504]</td>\n",
       "      <td>[nan, nan, nan]</td>\n",
       "      <td>[nan, nan, nan]</td>\n",
       "    </tr>\n",
       "    <tr>\n",
       "      <th>3</th>\n",
       "      <td>255686</td>\n",
       "      <td>2020-09-28 22:40:42.632533+00:00</td>\n",
       "      <td>t</td>\n",
       "      <td>297.846047</td>\n",
       "      <td>88954888800920543</td>\n",
       "      <td>864691135568539372</td>\n",
       "      <td>46412</td>\n",
       "      <td>2023-04-06 15:04:43.197444+00:00</td>\n",
       "      <td>t</td>\n",
       "      <td>255686</td>\n",
       "      <td>7</td>\n",
       "      <td>5</td>\n",
       "      <td>1946</td>\n",
       "      <td>2</td>\n",
       "      <td>4.071072</td>\n",
       "      <td>3.306988</td>\n",
       "      <td>[175760, 126480, 15504]</td>\n",
       "      <td>[nan, nan, nan]</td>\n",
       "      <td>[nan, nan, nan]</td>\n",
       "    </tr>\n",
       "    <tr>\n",
       "      <th>4</th>\n",
       "      <td>255686</td>\n",
       "      <td>2020-09-28 22:40:42.632533+00:00</td>\n",
       "      <td>t</td>\n",
       "      <td>297.846047</td>\n",
       "      <td>88954888800920543</td>\n",
       "      <td>864691135568539372</td>\n",
       "      <td>11823</td>\n",
       "      <td>2023-04-06 15:03:01.038836+00:00</td>\n",
       "      <td>t</td>\n",
       "      <td>255686</td>\n",
       "      <td>5</td>\n",
       "      <td>3</td>\n",
       "      <td>1994</td>\n",
       "      <td>2</td>\n",
       "      <td>5.419972</td>\n",
       "      <td>6.644126</td>\n",
       "      <td>[175760, 126480, 15504]</td>\n",
       "      <td>[nan, nan, nan]</td>\n",
       "      <td>[nan, nan, nan]</td>\n",
       "    </tr>\n",
       "  </tbody>\n",
       "</table>\n",
       "</div>"
      ],
      "text/plain": [
       "   id_ref                      created_ref valid_ref      volume  \\\n",
       "0  255686 2020-09-28 22:40:42.632533+00:00         t  297.846047   \n",
       "1  255686 2020-09-28 22:40:42.632533+00:00         t  297.846047   \n",
       "2  255686 2020-09-28 22:40:42.632533+00:00         t  297.846047   \n",
       "3  255686 2020-09-28 22:40:42.632533+00:00         t  297.846047   \n",
       "4  255686 2020-09-28 22:40:42.632533+00:00         t  297.846047   \n",
       "\n",
       "    pt_supervoxel_id          pt_root_id     id  \\\n",
       "0  88954888800920543  864691135568539372  67007   \n",
       "1  88954888800920543  864691135568539372  65810   \n",
       "2  88954888800920543  864691135568539372  54982   \n",
       "3  88954888800920543  864691135568539372  46412   \n",
       "4  88954888800920543  864691135568539372  11823   \n",
       "\n",
       "                           created valid  target_id  session  scan_idx  \\\n",
       "0 2023-04-06 15:05:50.491194+00:00     t     255686        9         6   \n",
       "1 2023-04-06 15:05:49.502144+00:00     t     255686        9         4   \n",
       "2 2023-04-06 15:05:15.938520+00:00     t     255686        8         7   \n",
       "3 2023-04-06 15:04:43.197444+00:00     t     255686        7         5   \n",
       "4 2023-04-06 15:03:01.038836+00:00     t     255686        5         3   \n",
       "\n",
       "   unit_id  field  residual     score              pt_position  \\\n",
       "0     1913      2  8.941486  4.206369  [175760, 126480, 15504]   \n",
       "1     7548      6  9.380808 -5.165012  [175760, 126480, 15504]   \n",
       "2     4778      4  3.763804  5.341737  [175760, 126480, 15504]   \n",
       "3     1946      2  4.071072  3.306988  [175760, 126480, 15504]   \n",
       "4     1994      2  5.419972  6.644126  [175760, 126480, 15504]   \n",
       "\n",
       "  bb_start_position  bb_end_position  \n",
       "0   [nan, nan, nan]  [nan, nan, nan]  \n",
       "1   [nan, nan, nan]  [nan, nan, nan]  \n",
       "2   [nan, nan, nan]  [nan, nan, nan]  \n",
       "3   [nan, nan, nan]  [nan, nan, nan]  \n",
       "4   [nan, nan, nan]  [nan, nan, nan]  "
      ]
     },
     "execution_count": 6,
     "metadata": {},
     "output_type": "execute_result"
    }
   ],
   "source": [
    "coreg.head()\n"
   ]
  },
  {
   "cell_type": "markdown",
   "id": "670a06dc",
   "metadata": {},
   "source": [
    "### Subtask 3: Explore NWB File"
   ]
  },
  {
   "cell_type": "code",
   "execution_count": 7,
   "id": "948f6660",
   "metadata": {},
   "outputs": [],
   "source": [
    "dandiset_id = \"000402\"\n",
    "file_path = \"sub-17797/sub-17797_ses-7-scan-4_behavior+image+ophys.nwb\" # file size ~67GB\n",
    "\n",
    "# Get the location of the file on DANDI\n",
    "with DandiAPIClient() as client:\n",
    "    asset = client.get_dandiset(dandiset_id, 'draft').get_asset_by_path(file_path)\n",
    "    s3_url = asset.get_content_url(follow_redirects=1, strip_query=True)"
   ]
  },
  {
   "cell_type": "code",
   "execution_count": null,
   "id": "741cd8f3",
   "metadata": {},
   "outputs": [],
   "source": [
    "# Create a virtual filesystem based on the http protocol and use caching to save accessed data to RAM.\n",
    "fs = filesystem(\"http\")\n",
    "file_system = fs.open(s3_url, \"rb\")\n",
    "file = File(file_system, mode=\"r\")\n",
    "# Open the file with NWBHDF5IO\n",
    "io = NWBHDF5IO(file=file, load_namespaces=True)\n",
    "\n",
    "microns_data = io.read()"
   ]
  },
  {
   "cell_type": "code",
   "execution_count": null,
   "id": "7edf911b",
   "metadata": {},
   "outputs": [],
   "source": [
    "microns_data"
   ]
  },
  {
   "cell_type": "markdown",
   "id": "502f2ba7",
   "metadata": {},
   "source": [
    "### Update co-registration to automated table"
   ]
  },
  {
   "cell_type": "code",
   "execution_count": null,
   "id": "9c04a0a0",
   "metadata": {},
   "outputs": [],
   "source": [
    "image_segmentation = microns_data.processing[\"ophys\"].data_interfaces[\"ImageSegmentation\"]\n",
    "image_segmentation"
   ]
  },
  {
   "cell_type": "code",
   "execution_count": null,
   "id": "f623c956",
   "metadata": {},
   "outputs": [],
   "source": [
    "ps4 = image_segmentation[\"PlaneSegmentation4\"][:]"
   ]
  },
  {
   "cell_type": "code",
   "execution_count": null,
   "id": "8b69c4da",
   "metadata": {
    "scrolled": true
   },
   "outputs": [],
   "source": [
    "ps4"
   ]
  },
  {
   "cell_type": "code",
   "execution_count": null,
   "id": "698e52f4",
   "metadata": {},
   "outputs": [],
   "source": [
    "scan_unit = pd.read_pickle(\"ScanUnit.pkl\")"
   ]
  },
  {
   "cell_type": "code",
   "execution_count": null,
   "id": "3f1a23a3",
   "metadata": {},
   "outputs": [],
   "source": [
    "session_units = scan_unit[(scan_unit['session']==7) & (scan_unit['scan_idx']==4) & (scan_unit['field'] == 4)]\n",
    "#session_units = scan_unit[(scan_unit['session']==7) & (scan_unit['scan_idx']==4)]"
   ]
  },
  {
   "cell_type": "code",
   "execution_count": null,
   "id": "00aeda0e",
   "metadata": {},
   "outputs": [],
   "source": [
    "ps4['mask_id']=ps4.index"
   ]
  },
  {
   "cell_type": "code",
   "execution_count": null,
   "id": "552a9606",
   "metadata": {},
   "outputs": [],
   "source": [
    "print(session_units.shape)\n",
    "print(ps4.shape)"
   ]
  },
  {
   "cell_type": "code",
   "execution_count": null,
   "id": "244453c5",
   "metadata": {},
   "outputs": [],
   "source": [
    "ps4_units = ps4.merge(session_units, on='mask_id', how='left')"
   ]
  },
  {
   "cell_type": "code",
   "execution_count": null,
   "id": "2cb0be6a",
   "metadata": {},
   "outputs": [],
   "source": [
    "ps4_units"
   ]
  },
  {
   "cell_type": "code",
   "execution_count": null,
   "id": "fd940665",
   "metadata": {},
   "outputs": [],
   "source": [
    "ps4.head()"
   ]
  },
  {
   "cell_type": "code",
   "execution_count": null,
   "id": "5843de91",
   "metadata": {},
   "outputs": [],
   "source": [
    "coreg.head()"
   ]
  },
  {
   "cell_type": "code",
   "execution_count": null,
   "id": "3d965d67",
   "metadata": {},
   "outputs": [],
   "source": [
    "coreg_units = coreg[(coreg['session']==7) & (coreg['scan_idx']==4) & (coreg['field'] == 4)]\n"
   ]
  },
  {
   "cell_type": "code",
   "execution_count": null,
   "id": "bcc70e2a",
   "metadata": {},
   "outputs": [],
   "source": [
    "coreg_units.head()"
   ]
  },
  {
   "cell_type": "code",
   "execution_count": null,
   "id": "6711d794",
   "metadata": {},
   "outputs": [],
   "source": [
    "coreg_units.columns\n"
   ]
  },
  {
   "cell_type": "code",
   "execution_count": null,
   "id": "44e2efc4",
   "metadata": {},
   "outputs": [],
   "source": [
    "coreg_match = ps4_units.merge(coreg_units, on='unit_id')"
   ]
  },
  {
   "cell_type": "code",
   "execution_count": null,
   "id": "f4f01727",
   "metadata": {},
   "outputs": [],
   "source": [
    "coreg_match.columns"
   ]
  },
  {
   "cell_type": "code",
   "execution_count": null,
   "id": "df02aad2",
   "metadata": {},
   "outputs": [],
   "source": [
    "coreg_match.iloc[50]"
   ]
  },
  {
   "cell_type": "code",
   "execution_count": null,
   "id": "3bbef6fc",
   "metadata": {},
   "outputs": [],
   "source": [
    "microns_data"
   ]
  },
  {
   "cell_type": "code",
   "execution_count": null,
   "id": "61c62345",
   "metadata": {},
   "outputs": [],
   "source": [
    "dfs = update_microns_nwb_file(microns_data, used_cache_coregistration_table=True)"
   ]
  },
  {
   "cell_type": "code",
   "execution_count": null,
   "id": "2ebc49d8",
   "metadata": {},
   "outputs": [],
   "source": [
    "len(dfs)"
   ]
  },
  {
   "cell_type": "code",
   "execution_count": null,
   "id": "e8a18c61",
   "metadata": {},
   "outputs": [],
   "source": [
    "microns_data.processing[\"ophys\"].data_interfaces[\"ImageSegmentation\"].plane_segmentations"
   ]
  },
  {
   "cell_type": "code",
   "execution_count": null,
   "id": "c40cb4a3",
   "metadata": {
    "scrolled": true
   },
   "outputs": [],
   "source": [
    "#microns_data.processing[\"ophys\"].data_interfaces[\"ImageSegmentation\"].plane_segmentations.pop(\"PlaneSegmentation1\")"
   ]
  },
  {
   "cell_type": "code",
   "execution_count": null,
   "id": "ed959112",
   "metadata": {},
   "outputs": [],
   "source": [
    "from pynwb.ophys import PlaneSegmentation"
   ]
  },
  {
   "cell_type": "code",
   "execution_count": null,
   "id": "6266467d",
   "metadata": {},
   "outputs": [],
   "source": [
    "def create_new_plane_segmentation(old, df, descriptions):\n",
    "    ps = PlaneSegmentation(\n",
    "        name=old.name, \n",
    "        description=old.description, \n",
    "        imaging_plane=old.imaging_plane,\n",
    "        id=df.index.tolist()\n",
    "    )\n",
    "    \n",
    "    for col in df.columns:\n",
    "        if col in old.colnames:\n",
    "            old_col = find_column_by_name(old, col)\n",
    "            ps.add_column(name=old_col.name, description=old_col.description, data=df[col].tolist())\n",
    "        else:\n",
    "            ps.add_column(name=col, description=descriptions[col], data=df[col].tolist())\n",
    "    return ps\n",
    "        \n",
    "\n",
    "def find_column_by_name(table,col_name):\n",
    "    for c in table.columns:\n",
    "        if c.name == col_name:\n",
    "            return c"
   ]
  },
  {
   "cell_type": "code",
   "execution_count": null,
   "id": "2086261d",
   "metadata": {},
   "outputs": [],
   "source": [
    "microns_data.processing[\"ophys\"].data_interfaces[\"ImageSegmentation\"].plane_segmentations[\"PlaneSegmentation2\"].colnames"
   ]
  },
  {
   "cell_type": "code",
   "execution_count": null,
   "id": "1d6f45b7",
   "metadata": {},
   "outputs": [],
   "source": [
    "old_ps1 = microns_data.processing[\"ophys\"].data_interfaces[\"ImageSegmentation\"].plane_segmentations[\"PlaneSegmentation1\"]"
   ]
  },
  {
   "cell_type": "code",
   "execution_count": null,
   "id": "cd8f6b08",
   "metadata": {},
   "outputs": [],
   "source": [
    "ps1 = PlaneSegmentation(name=old_ps1.name, description=old_ps1.description, imaging_plane=old_ps1.imaging_plane)"
   ]
  },
  {
   "cell_type": "code",
   "execution_count": null,
   "id": "a0d36877",
   "metadata": {},
   "outputs": [],
   "source": [
    "old_col = find_column_by_name(old_ps1, \"image_mask\")\n",
    "old_col.description"
   ]
  },
  {
   "cell_type": "code",
   "execution_count": null,
   "id": "d8da3583",
   "metadata": {},
   "outputs": [],
   "source": [
    "# for each col in your new df;\n",
    "#     if new df column existed in old dataframe,  useold description\n",
    "#     otherwise, make a new description\n",
    "#     ps1.add_column(name=..., description=..., data=...)\n",
    "    # numpy array or list"
   ]
  },
  {
   "cell_type": "code",
   "execution_count": null,
   "id": "23d57199",
   "metadata": {},
   "outputs": [],
   "source": [
    "microns_data.processing[\"ophys\"].data_interfaces[\"ImageSegmentation\"].add(ps1)"
   ]
  },
  {
   "cell_type": "code",
   "execution_count": null,
   "id": "5078753e",
   "metadata": {},
   "outputs": [],
   "source": [
    "description = {x: \"Placeholder\" for x in dfs[1].columns}"
   ]
  },
  {
   "cell_type": "code",
   "execution_count": null,
   "id": "d4437ff3",
   "metadata": {},
   "outputs": [],
   "source": [
    "old_ps2 = microns_data.processing[\"ophys\"].data_interfaces[\"ImageSegmentation\"].plane_segmentations[\"PlaneSegmentation2\"]\n",
    "ps = create_new_plane_segmentation(old_ps2, dfs[1], description)"
   ]
  },
  {
   "cell_type": "code",
   "execution_count": null,
   "id": "aebfe44e",
   "metadata": {},
   "outputs": [],
   "source": [
    "ps"
   ]
  },
  {
   "cell_type": "code",
   "execution_count": null,
   "id": "4938af2c",
   "metadata": {},
   "outputs": [],
   "source": [
    "len(dfs[1])"
   ]
  },
  {
   "cell_type": "code",
   "execution_count": null,
   "id": "6a0b366b",
   "metadata": {},
   "outputs": [],
   "source": [
    "dfs[1]"
   ]
  },
  {
   "cell_type": "code",
   "execution_count": null,
   "id": "b1e63f81",
   "metadata": {},
   "outputs": [],
   "source": [
    "def update_microns_nwb_file(\n",
    "    nwb: NWBFile,\n",
    "    coregistration_table=\"apl_functional_coreg_forward_v5\",\n",
    "    scan_unit_path=\"./ScanUnit.pkl\",\n",
    "    add_scan_units_to_nwb=True,\n",
    "    used_cache_coregistration_table=False,\n",
    "    cache_coregistration_table_path= \"./apl_functional_coreg_forward_v5.pkl\",\n",
    "    \n",
    "):\n",
    "    if used_cache_coregistration_table:\n",
    "        coreg = pd.read_pickle(cache_coregistration_table_path)\n",
    "    else:\n",
    "        cave = CAVEclient(\"minnie65_phase3_v1\")\n",
    "        coreg = cave.materialize.query_table(coregistration_table)\n",
    "        \n",
    "    session, scan_idx = int(nwb.session_id.split('-')[0]), int(nwb.session_id.split('-')[2])\n",
    "    scan_units = pd.read_pickle(scan_unit_path)\n",
    "    scan_units = scan_unit[(scan_unit['session']==session) & (scan_unit['scan_idx']==scan_idx)]\n",
    "    \n",
    "    image_segmentation = nwb.processing[\"ophys\"].data_interfaces[\"ImageSegmentation\"]\n",
    "    \n",
    "    all_ps = list(image_segmentation.plane_segmentations)\n",
    "    for ps_name in tqdm(all_ps):\n",
    "        \n",
    "        ps = image_segmentation.plane_segmentations.pop(ps_name)\n",
    "        field = int(ps_name[-1])\n",
    "        field_scan_units = scan_units[scan_units['field'] == field]\n",
    "        ps_df = ps[:]\n",
    "        ps_df['mask_id'] = ps_df.index\n",
    "        ps_df_with_units = ps_df.merge(field_scan_units, on='mask_id', how='left').drop(columns=[\n",
    "            'mask_id', 'session', 'scan_idx', 'field'\n",
    "        ])\n",
    "        \n",
    "        coreg_units = coreg[\n",
    "            (coreg['session']==session) & \n",
    "            (coreg['scan_idx']==scan_idx) & \n",
    "            (coreg['field'] == field)\n",
    "        ][['target_id', 'unit_id']]\n",
    "        \n",
    "        if len(coreg_units):\n",
    "            ps_df_with_units = ps_df_with_units.merge(coreg_units, on='unit_id').rename(\n",
    "                columns={\n",
    "                    'target_id': 'auto_match_cave_nuclei_id', \n",
    "                    'cave_ids': 'manual_match_cave_nuclei_id'\n",
    "                }\n",
    "            )\n",
    "        \n",
    "        description = {x: \"Placeholder\" for x in ps_df_with_units.columns}\n",
    "        new_ps = create_new_plane_segmentation(ps, ps_df_with_units, description)\n",
    "        image_segmentation.plane_segmentations.add(new_ps)\n",
    "        \n",
    "    return nwb\n",
    "\n",
    "    "
   ]
  },
  {
   "cell_type": "code",
   "execution_count": null,
   "id": "ce7a495c",
   "metadata": {},
   "outputs": [],
   "source": [
    "microns_data.processing[\"ophys\"].data_interfaces[\"ImageSegmentation\"]"
   ]
  },
  {
   "cell_type": "code",
   "execution_count": null,
   "id": "9491d766",
   "metadata": {},
   "outputs": [],
   "source": [
    "dfs = update_microns_nwb_file(microns_data, used_cache_coregistration_table=True)"
   ]
  },
  {
   "cell_type": "code",
   "execution_count": null,
   "id": "09a42da0",
   "metadata": {},
   "outputs": [],
   "source": []
  },
  {
   "cell_type": "code",
   "execution_count": null,
   "id": "cbfc8ea9",
   "metadata": {},
   "outputs": [],
   "source": [
    "microns_data.processing[\"ophys\"].data_interfaces[\"ImageSegmentation\"][\"PlaneSegmentation5\"][:]"
   ]
  },
  {
   "cell_type": "code",
   "execution_count": null,
   "id": "049d24de",
   "metadata": {},
   "outputs": [],
   "source": [
    "import pynapple as nap"
   ]
  },
  {
   "cell_type": "code",
   "execution_count": null,
   "id": "59bffea8",
   "metadata": {},
   "outputs": [],
   "source": []
  }
 ],
 "metadata": {
  "kernelspec": {
   "display_name": "nwb",
   "language": "python",
   "name": "nwb"
  },
  "language_info": {
   "codemirror_mode": {
    "name": "ipython",
    "version": 3
   },
   "file_extension": ".py",
   "mimetype": "text/x-python",
   "name": "python",
   "nbconvert_exporter": "python",
   "pygments_lexer": "ipython3",
   "version": "3.11.5"
  }
 },
 "nbformat": 4,
 "nbformat_minor": 5
}
